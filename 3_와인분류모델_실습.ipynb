{
 "cells": [
  {
   "cell_type": "markdown",
   "metadata": {},
   "source": [
    "# 와인 데이터 분류를 위한 딥러닝 모델 만들기\n",
    "\n",
    "이 노트북에서는 UCI Machine Learning Repository의 와인 품질 데이터셋을 사용하여 레드 와인과 화이트 와인을 분류하는 딥러닝 모델을 만들어보겠습니다.\n",
    "\n",
    "- pip install tensorflow pandas scikit-learn matplotlib jupyter"
   ]
  },
  {
   "cell_type": "markdown",
   "metadata": {},
   "source": [
    "## 1. 라이브러리 임포트 및 데이터 준비\n",
    "\n",
    "필요한 라이브러리들을 임포트하고 와인 데이터셋을 로드합니다."
   ]
  },
  {
   "cell_type": "code",
   "execution_count": null,
   "metadata": {},
   "outputs": [],
   "source": [
    "import pandas as pd\n",
    "import tensorflow as tf\n",
    "from tensorflow.keras.models import Sequential\n",
    "from tensorflow.keras.layers import Dense\n",
    "from sklearn.model_selection import train_test_split\n",
    "from sklearn.preprocessing import StandardScaler\n",
    "import matplotlib.pyplot as plt"
   ]
  },
  {
   "cell_type": "code",
   "execution_count": null,
   "metadata": {},
   "outputs": [],
   "source": [
    "# 와인 데이터셋 로드 (웹에서 직접)\n",
    "# 레드 와인과 화이트 와인 데이터가 있으며, type 컬럼으로 구분됩니다.\n",
    "red_wine_url = 'https://archive.ics.uci.edu/ml/machine-learning-databases/wine-quality/winequality-red.csv'\n",
    "white_wine_url = 'https://archive.ics.uci.edu/ml/machine-learning-databases/wine-quality/winequality-white.csv'\n",
    "\n",
    "red_wine = pd.read_csv(red_wine_url, sep=';')\n",
    "white_wine = pd.read_csv(white_wine_url, sep=';')\n",
    "\n",
    "# 데이터 구분을 위해 type 컬럼 추가\n",
    "red_wine['type'] = 0  # 레드 와인\n",
    "white_wine['type'] = 1 # 화이트 와인\n",
    "\n",
    "# 데이터 합치기\n",
    "wine = pd.concat([red_wine, white_wine])\n",
    "\n",
    "print('데이터 샘플:')\n",
    "print(wine.head())\n",
    "print('\\n데이터 정보:')\n",
    "wine.info()"
   ]
  },
  {
   "cell_type": "markdown",
   "metadata": {},
   "source": [
    "## 2. 데이터 전처리\n",
    "\n",
    "모델 학습을 위해 특성(X)과 타겟(y)을 분리하고, 훈련/테스트 데이터로 나눈 후 스케일링을 수행합니다."
   ]
  },
  {
   "cell_type": "code",
   "execution_count": null,
   "metadata": {},
   "outputs": [],
   "source": [
    "# Feature(X)와 Target(y) 분리\n",
    "X = wine.drop('type', axis=1)\n",
    "y = wine['type']\n",
    "\n",
    "# 훈련 데이터와 테스트 데이터 분리\n",
    "X_train, X_test, y_train, y_test = train_test_split(X, y, test_size=0.2, random_state=42, stratify=y)\n",
    "\n",
    "print('훈련 데이터 shape:', X_train.shape)\n",
    "print('테스트 데이터 shape:', X_test.shape)"
   ]
  },
  {
   "cell_type": "code",
   "execution_count": null,
   "metadata": {},
   "outputs": [],
   "source": [
    "# 데이터 스케일링 (StandardScaler 사용)\n",
    "# 각 특성의 평균을 0, 분산을 1로 조정하여 모델 성능을 향상시킵니다.\n",
    "scaler = StandardScaler()\n",
    "X_train_scaled = scaler.fit_transform(X_train)\n",
    "X_test_scaled = scaler.transform(X_test)\n",
    "\n",
    "print('스케일링된 훈련 데이터 shape:', X_train_scaled.shape)\n",
    "print('스케일링된 테스트 데이터 shape:', X_test_scaled.shape)"
   ]
  },
  {
   "cell_type": "markdown",
   "metadata": {},
   "source": [
    "## 3. 딥러닝 모델 구성 (Keras)\n",
    "\n",
    "Sequential API를 사용하여 딥러닝 모델을 구성합니다."
   ]
  },
  {
   "cell_type": "code",
   "execution_count": null,
   "metadata": {},
   "outputs": [],
   "source": [
    "# Sequential API를 사용하여 모델을 구성합니다.\n",
    "model = Sequential([\n",
    "    # 입력층 (Input Layer) - 12개의 특성을 입력으로 받습니다.\n",
    "    Dense(30, activation='relu', input_shape=(12,)),\n",
    "    \n",
    "    # 은닉층 (Hidden Layer)\n",
    "    Dense(12, activation='relu'),\n",
    "    \n",
    "    # 출력층 (Output Layer) - 레드(0) 또는 화이트(1)를 예측하는 이진 분류 문제이므로, 뉴런은 1개, 활성화 함수는 sigmoid를 사용합니다.\n",
    "    Dense(1, activation='sigmoid')\n",
    "])\n",
    "\n",
    "# 모델 구조 확인\n",
    "model.summary()"
   ]
  },
  {
   "cell_type": "markdown",
   "metadata": {},
   "source": [
    "## 4. 모델 컴파일 및 학습\n",
    "\n",
    "모델을 컴파일하고 학습시킵니다."
   ]
  },
  {
   "cell_type": "code",
   "execution_count": null,
   "metadata": {},
   "outputs": [],
   "source": [
    "# 모델의 학습 과정을 설정합니다 (컴파일).\n",
    "model.compile(optimizer='adam',\n",
    "              loss='binary_crossentropy', # 이진 분류 문제이므로 binary_crossentropy를 사용합니다.\n",
    "              metrics=['accuracy'])\n",
    "\n",
    "print(\"모델 컴파일 완료!\")"
   ]
  },
  {
   "cell_type": "code",
   "execution_count": null,
   "metadata": {},
   "outputs": [],
   "source": [
    "# 모델을 학습시킵니다.\n",
    "# validation_split=0.2: 훈련 데이터 중 20%를 검증 데이터로 사용하여 각 epoch마다 성능을 모니터링합니다.\n",
    "history = model.fit(X_train_scaled, y_train, epochs=50, batch_size=32, validation_split=0.2, verbose=1)"
   ]
  },
  {
   "cell_type": "markdown",
   "metadata": {},
   "source": [
    "## 5. 모델 평가\n",
    "\n",
    "테스트 데이터로 모델의 최종 성능을 평가합니다."
   ]
  },
  {
   "cell_type": "code",
   "execution_count": null,
   "metadata": {},
   "outputs": [],
   "source": [
    "# 테스트 데이터로 모델의 최종 성능을 평가합니다.\n",
    "loss, accuracy = model.evaluate(X_test_scaled, y_test)\n",
    "print(f'테스트 손실(Loss): {loss:.4f}')\n",
    "print(f'테스트 정확도(Accuracy): {accuracy:.4f}')"
   ]
  },
  {
   "cell_type": "markdown",
   "metadata": {},
   "source": [
    "## 6. 학습 과정 시각화\n",
    "\n",
    "학습 과정에서의 정확도와 손실 변화를 그래프로 확인합니다."
   ]
  },
  {
   "cell_type": "code",
   "execution_count": null,
   "metadata": {},
   "outputs": [],
   "source": [
    "def plot_history(history):\n",
    "    \"\"\"학습 이력을 시각화하는 함수\"\"\"\n",
    "    # 정확도 그래프\n",
    "    plt.figure(figsize=(12, 4))\n",
    "    plt.subplot(1, 2, 1)\n",
    "    plt.plot(history.history['accuracy'], label='Train Accuracy')\n",
    "    plt.plot(history.history['val_accuracy'], label='Validation Accuracy')\n",
    "    plt.title('Model Accuracy')\n",
    "    plt.xlabel('Epochs')\n",
    "    plt.ylabel('Accuracy')\n",
    "    plt.legend()\n",
    "\n",
    "    # 손실 그래프\n",
    "    plt.subplot(1, 2, 2)\n",
    "    plt.plot(history.history['loss'], label='Train Loss')\n",
    "    plt.plot(history.history['val_loss'], label='Validation Loss')\n",
    "    plt.title('Model Loss')\n",
    "    plt.xlabel('Epochs')\n",
    "    plt.ylabel('Loss')\n",
    "    plt.legend()\n",
    "    \n",
    "    plt.tight_layout()\n",
    "    plt.show()\n",
    "\n",
    "# 학습 과정 시각화 실행\n",
    "plot_history(history)"
   ]
  }
 ],
 "metadata": {
  "kernelspec": {
   "display_name": "yolo_env",
   "language": "python",
   "name": "python3"
  },
  "language_info": {
   "codemirror_mode": {
    "name": "ipython",
    "version": 3
   },
   "file_extension": ".py",
   "mimetype": "text/x-python",
   "name": "python",
   "nbconvert_exporter": "python",
   "pygments_lexer": "ipython3",
   "version": "3.10.18"
  }
 },
 "nbformat": 4,
 "nbformat_minor": 4
}
